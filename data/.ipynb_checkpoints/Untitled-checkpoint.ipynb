{
 "cells": [
  {
   "cell_type": "code",
   "execution_count": 22,
   "metadata": {},
   "outputs": [],
   "source": [
    "import pandas as pd\n",
    "# import Levenshtein\n",
    "# import re \n",
    "\n"
   ]
  },
  {
   "cell_type": "code",
   "execution_count": 62,
   "metadata": {},
   "outputs": [],
   "source": [
    "s = ['fever', 'cough', 'sore throat']"
   ]
  },
  {
   "cell_type": "code",
   "execution_count": 63,
   "metadata": {},
   "outputs": [],
   "source": [
    "def symptom(symtoms):\n",
    "\t\"\"\"Takes a list of symptoms and returns a sorted list of top 5 diseases\"\"\"\n",
    "\n",
    "\tdf = pd.read_excel('raw_data.xlsx')\n",
    "# \tdf[] = s.split(' ', 1)[1]\n",
    "    \n",
    "\tdf = df.fillna(method='ffill')\n",
    "\tdf[\"match\"] = 0\n",
    "\n",
    "\tfor i in symtoms:\n",
    "\t    df[\"match\"] += df[\"Symptom\"].apply(lambda x: (str.lower(i) in str.lower(x))*1)\n",
    "\n",
    "\treturn df.groupby(\"Disease\")[[\"match\", \"Count of Disease Occurrence\"]].sum().sort_values([\"match\", \"Count of Disease Occurrence\"], ascending = False).reset_index().head(10)\n",
    "# \treturn df.sort_values(\"lev_ratio_match\", ascending = False).head(20)\n"
   ]
  },
  {
   "cell_type": "code",
   "execution_count": 64,
   "metadata": {},
   "outputs": [
    {
     "data": {
      "text/html": [
       "<div>\n",
       "<style scoped>\n",
       "    .dataframe tbody tr th:only-of-type {\n",
       "        vertical-align: middle;\n",
       "    }\n",
       "\n",
       "    .dataframe tbody tr th {\n",
       "        vertical-align: top;\n",
       "    }\n",
       "\n",
       "    .dataframe thead th {\n",
       "        text-align: right;\n",
       "    }\n",
       "</style>\n",
       "<table border=\"1\" class=\"dataframe\">\n",
       "  <thead>\n",
       "    <tr style=\"text-align: right;\">\n",
       "      <th></th>\n",
       "      <th>Disease</th>\n",
       "      <th>match</th>\n",
       "      <th>Count of Disease Occurrence</th>\n",
       "    </tr>\n",
       "  </thead>\n",
       "  <tbody>\n",
       "    <tr>\n",
       "      <td>0</td>\n",
       "      <td>UMLS:C0041912_upper respiratory infection</td>\n",
       "      <td>5</td>\n",
       "      <td>3780.0</td>\n",
       "    </tr>\n",
       "    <tr>\n",
       "      <td>1</td>\n",
       "      <td>UMLS:C0032285_pneumonia</td>\n",
       "      <td>4</td>\n",
       "      <td>19551.0</td>\n",
       "    </tr>\n",
       "    <tr>\n",
       "      <td>2</td>\n",
       "      <td>UMLS:C0006277_bronchitis</td>\n",
       "      <td>4</td>\n",
       "      <td>2924.0</td>\n",
       "    </tr>\n",
       "    <tr>\n",
       "      <td>3</td>\n",
       "      <td>UMLS:C0004096_asthma</td>\n",
       "      <td>3</td>\n",
       "      <td>7515.0</td>\n",
       "    </tr>\n",
       "    <tr>\n",
       "      <td>4</td>\n",
       "      <td>UMLS:C0001175_acquired immuno-deficiency syndr...</td>\n",
       "      <td>3</td>\n",
       "      <td>4900.0</td>\n",
       "    </tr>\n",
       "    <tr>\n",
       "      <td>5</td>\n",
       "      <td>UMLS:C0032305_Pneumocystis carinii pneumonia</td>\n",
       "      <td>3</td>\n",
       "      <td>2034.0</td>\n",
       "    </tr>\n",
       "    <tr>\n",
       "      <td>6</td>\n",
       "      <td>UMLS:C0497327_dementia</td>\n",
       "      <td>2</td>\n",
       "      <td>8568.0</td>\n",
       "    </tr>\n",
       "    <tr>\n",
       "      <td>7</td>\n",
       "      <td>UMLS:C0021311_infection</td>\n",
       "      <td>2</td>\n",
       "      <td>7560.0</td>\n",
       "    </tr>\n",
       "    <tr>\n",
       "      <td>8</td>\n",
       "      <td>UMLS:C0034065_embolism pulmonary</td>\n",
       "      <td>2</td>\n",
       "      <td>4704.0</td>\n",
       "    </tr>\n",
       "    <tr>\n",
       "      <td>9</td>\n",
       "      <td>UMLS:C0038663_suicide attempt</td>\n",
       "      <td>2</td>\n",
       "      <td>2622.0</td>\n",
       "    </tr>\n",
       "  </tbody>\n",
       "</table>\n",
       "</div>"
      ],
      "text/plain": [
       "                                             Disease  match  \\\n",
       "0          UMLS:C0041912_upper respiratory infection      5   \n",
       "1                            UMLS:C0032285_pneumonia      4   \n",
       "2                           UMLS:C0006277_bronchitis      4   \n",
       "3                               UMLS:C0004096_asthma      3   \n",
       "4  UMLS:C0001175_acquired immuno-deficiency syndr...      3   \n",
       "5       UMLS:C0032305_Pneumocystis carinii pneumonia      3   \n",
       "6                             UMLS:C0497327_dementia      2   \n",
       "7                            UMLS:C0021311_infection      2   \n",
       "8                   UMLS:C0034065_embolism pulmonary      2   \n",
       "9                      UMLS:C0038663_suicide attempt      2   \n",
       "\n",
       "   Count of Disease Occurrence  \n",
       "0                       3780.0  \n",
       "1                      19551.0  \n",
       "2                       2924.0  \n",
       "3                       7515.0  \n",
       "4                       4900.0  \n",
       "5                       2034.0  \n",
       "6                       8568.0  \n",
       "7                       7560.0  \n",
       "8                       4704.0  \n",
       "9                       2622.0  "
      ]
     },
     "execution_count": 64,
     "metadata": {},
     "output_type": "execute_result"
    }
   ],
   "source": [
    "symptom(s)\n"
   ]
  },
  {
   "cell_type": "code",
   "execution_count": 57,
   "metadata": {},
   "outputs": [
    {
     "data": {
      "text/plain": [
       "True"
      ]
     },
     "execution_count": 57,
     "metadata": {},
     "output_type": "execute_result"
    }
   ],
   "source": [
    "'pain' in 'chest pain'"
   ]
  },
  {
   "cell_type": "code",
   "execution_count": null,
   "metadata": {},
   "outputs": [],
   "source": []
  }
 ],
 "metadata": {
  "kernelspec": {
   "display_name": "Python 3",
   "language": "python",
   "name": "python3"
  },
  "language_info": {
   "codemirror_mode": {
    "name": "ipython",
    "version": 3
   },
   "file_extension": ".py",
   "mimetype": "text/x-python",
   "name": "python",
   "nbconvert_exporter": "python",
   "pygments_lexer": "ipython3",
   "version": "3.7.4"
  }
 },
 "nbformat": 4,
 "nbformat_minor": 2
}
